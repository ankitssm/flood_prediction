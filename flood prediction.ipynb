{
 "cells": [
  {
   "cell_type": "code",
   "execution_count": 1,
   "id": "5dd729d9-905b-4678-97f4-27710352cef5",
   "metadata": {},
   "outputs": [
    {
     "name": "stdout",
     "output_type": "stream",
     "text": [
      "Requirement already satisfied: pandas in c:\\users\\adars\\anaconda3\\lib\\site-packages (2.1.4)\n",
      "Requirement already satisfied: numpy in c:\\users\\adars\\anaconda3\\lib\\site-packages (1.26.4)\n",
      "Requirement already satisfied: requests in c:\\users\\adars\\anaconda3\\lib\\site-packages (2.31.0)\n",
      "Requirement already satisfied: matplotlib in c:\\users\\adars\\anaconda3\\lib\\site-packages (3.8.0)\n",
      "Requirement already satisfied: scikit-learn in c:\\users\\adars\\anaconda3\\lib\\site-packages (1.2.2)\n",
      "Requirement already satisfied: joblib in c:\\users\\adars\\anaconda3\\lib\\site-packages (1.2.0)\n",
      "Requirement already satisfied: python-dateutil>=2.8.2 in c:\\users\\adars\\anaconda3\\lib\\site-packages (from pandas) (2.8.2)\n",
      "Requirement already satisfied: pytz>=2020.1 in c:\\users\\adars\\anaconda3\\lib\\site-packages (from pandas) (2023.3.post1)\n",
      "Requirement already satisfied: tzdata>=2022.1 in c:\\users\\adars\\anaconda3\\lib\\site-packages (from pandas) (2023.3)\n",
      "Requirement already satisfied: charset-normalizer<4,>=2 in c:\\users\\adars\\anaconda3\\lib\\site-packages (from requests) (2.0.4)\n",
      "Requirement already satisfied: idna<4,>=2.5 in c:\\users\\adars\\anaconda3\\lib\\site-packages (from requests) (3.4)\n",
      "Requirement already satisfied: urllib3<3,>=1.21.1 in c:\\users\\adars\\anaconda3\\lib\\site-packages (from requests) (2.0.7)\n",
      "Requirement already satisfied: certifi>=2017.4.17 in c:\\users\\adars\\anaconda3\\lib\\site-packages (from requests) (2024.2.2)\n",
      "Requirement already satisfied: contourpy>=1.0.1 in c:\\users\\adars\\anaconda3\\lib\\site-packages (from matplotlib) (1.2.0)\n",
      "Requirement already satisfied: cycler>=0.10 in c:\\users\\adars\\anaconda3\\lib\\site-packages (from matplotlib) (0.11.0)\n",
      "Requirement already satisfied: fonttools>=4.22.0 in c:\\users\\adars\\anaconda3\\lib\\site-packages (from matplotlib) (4.25.0)\n",
      "Requirement already satisfied: kiwisolver>=1.0.1 in c:\\users\\adars\\anaconda3\\lib\\site-packages (from matplotlib) (1.4.4)\n",
      "Requirement already satisfied: packaging>=20.0 in c:\\users\\adars\\anaconda3\\lib\\site-packages (from matplotlib) (23.1)\n",
      "Requirement already satisfied: pillow>=6.2.0 in c:\\users\\adars\\anaconda3\\lib\\site-packages (from matplotlib) (10.2.0)\n",
      "Requirement already satisfied: pyparsing>=2.3.1 in c:\\users\\adars\\anaconda3\\lib\\site-packages (from matplotlib) (3.0.9)\n",
      "Requirement already satisfied: scipy>=1.3.2 in c:\\users\\adars\\anaconda3\\lib\\site-packages (from scikit-learn) (1.11.4)\n",
      "Requirement already satisfied: threadpoolctl>=2.0.0 in c:\\users\\adars\\anaconda3\\lib\\site-packages (from scikit-learn) (2.2.0)\n",
      "Requirement already satisfied: six>=1.5 in c:\\users\\adars\\anaconda3\\lib\\site-packages (from python-dateutil>=2.8.2->pandas) (1.16.0)\n"
     ]
    }
   ],
   "source": [
    "!pip install pandas numpy requests matplotlib scikit-learn joblib\n"
   ]
  },
  {
   "cell_type": "code",
   "execution_count": 2,
   "id": "af07f42e-26ad-43e0-9dc0-892284d39bcf",
   "metadata": {},
   "outputs": [],
   "source": [
    "import pandas as pd\n",
    "import numpy as np\n",
    "import requests\n",
    "import matplotlib.pyplot as plt\n",
    "from sklearn.ensemble import RandomForestClassifier\n"
   ]
  },
  {
   "cell_type": "code",
   "execution_count": 7,
   "id": "28fe2908-489d-45dd-ba0d-2b42e9143709",
   "metadata": {},
   "outputs": [],
   "source": [
    "df = pd.read_csv(r\"C:\\Users\\adars\\Downloads\\archive.zip\")"
   ]
  },
  {
   "cell_type": "code",
   "execution_count": 12,
   "id": "5dcf54e1-a475-4297-9ad4-917d1577d647",
   "metadata": {},
   "outputs": [
    {
     "name": "stdout",
     "output_type": "stream",
     "text": [
      "   Disaster Type  Latitude  Longitude  Total Deaths  Total Affected  duration  \\\n",
      "0              0   52.6717    -0.2995         300.0          3000.0       0.0   \n",
      "1              0   35.6897   139.6920        1379.0         13790.0       0.0   \n",
      "2              0   39.9050   116.3910      100000.0       1000000.0       0.0   \n",
      "3              0   23.1288   113.2590           0.0       3000000.0       0.0   \n",
      "4              0   39.1467   117.2060           0.0        635000.0       0.0   \n",
      "\n",
      "   time     Rainfall  Elevation      Slope  distance  occured  \n",
      "0  1900  1383.125626       11.0   1.788207       0.0        1  \n",
      "1  1909  1383.125626       49.0  24.356508       0.0        1  \n",
      "2  1909   580.345856       55.0   8.374380       0.0        1  \n",
      "3  1912  2993.401777        7.0  12.917221       0.0        1  \n",
      "4  1913  1383.125626        3.0   1.513093       0.0        1  \n",
      "<class 'pandas.core.frame.DataFrame'>\n",
      "RangeIndex: 6237 entries, 0 to 6236\n",
      "Data columns (total 12 columns):\n",
      " #   Column          Non-Null Count  Dtype  \n",
      "---  ------          --------------  -----  \n",
      " 0   Disaster Type   6237 non-null   int64  \n",
      " 1   Latitude        6237 non-null   float64\n",
      " 2   Longitude       6237 non-null   float64\n",
      " 3   Total Deaths    6237 non-null   float64\n",
      " 4   Total Affected  6237 non-null   float64\n",
      " 5   duration        6237 non-null   float64\n",
      " 6   time            6237 non-null   int64  \n",
      " 7   Rainfall        6237 non-null   float64\n",
      " 8   Elevation       6237 non-null   float64\n",
      " 9   Slope           6237 non-null   float64\n",
      " 10  distance        6237 non-null   float64\n",
      " 11  occured         6237 non-null   int64  \n",
      "dtypes: float64(9), int64(3)\n",
      "memory usage: 584.8 KB\n",
      "None\n",
      "       Disaster Type     Latitude    Longitude  Total Deaths  Total Affected  \\\n",
      "count    6237.000000  6237.000000  6237.000000  6.237000e+03    6.237000e+03   \n",
      "mean        0.773930    18.767296    25.577775  3.092211e+03    8.047540e+05   \n",
      "std         1.257769    23.205920    75.478904  7.709807e+04    7.847980e+06   \n",
      "min         0.000000   -53.162569  -175.273869  0.000000e+00    0.000000e+00   \n",
      "25%         0.000000     4.868178   -43.415278  0.000000e+00    5.000000e+02   \n",
      "50%         0.000000    22.704752    30.488437  8.000000e+00    5.381000e+03   \n",
      "75%         2.000000    37.963000    92.340000  4.300000e+01    6.001600e+04   \n",
      "max         4.000000    69.968735   179.847745  3.700000e+06    3.000000e+08   \n",
      "\n",
      "          duration         time      Rainfall    Elevation        Slope  \\\n",
      "count  6237.000000  6237.000000   6237.000000  6237.000000  6237.000000   \n",
      "mean     25.897066  1994.058041   1200.677851   604.385537     7.169169   \n",
      "std      89.617806    20.522141   1164.591241   855.309741     8.954785   \n",
      "min       0.000000  1900.000000      0.547090   -29.000000     0.000000   \n",
      "25%       0.000000  1987.000000    489.270857    42.000000     1.854334   \n",
      "50%       0.000000  2000.000000   1029.113686   239.000000     3.704792   \n",
      "75%       0.000000  2008.000000   1524.737477   839.000000     8.656136   \n",
      "max     660.000000  2016.000000  23751.949287  6796.000000    65.991348   \n",
      "\n",
      "           distance      occured  \n",
      "count  6.237000e+03  6237.000000  \n",
      "mean   5.440781e+03     0.672118  \n",
      "std    8.607790e+04     0.469479  \n",
      "min    0.000000e+00     0.000000  \n",
      "25%    0.000000e+00     0.000000  \n",
      "50%    0.000000e+00     1.000000  \n",
      "75%    0.000000e+00     1.000000  \n",
      "max    1.390229e+06     1.000000  \n",
      "Disaster Type     0\n",
      "Latitude          0\n",
      "Longitude         0\n",
      "Total Deaths      0\n",
      "Total Affected    0\n",
      "duration          0\n",
      "time              0\n",
      "Rainfall          0\n",
      "Elevation         0\n",
      "Slope             0\n",
      "distance          0\n",
      "occured           0\n",
      "dtype: int64\n"
     ]
    }
   ],
   "source": [
    "print(df.head())\n",
    "print(df.info())\n",
    "print(df.describe())\n",
    "print(df.isnull().sum())"
   ]
  },
  {
   "cell_type": "code",
   "execution_count": null,
   "id": "7e4419e4-3c40-463e-b214-5a5e251ce1ad",
   "metadata": {},
   "outputs": [],
   "source": []
  }
 ],
 "metadata": {
  "kernelspec": {
   "display_name": "Python 3 (ipykernel)",
   "language": "python",
   "name": "python3"
  },
  "language_info": {
   "codemirror_mode": {
    "name": "ipython",
    "version": 3
   },
   "file_extension": ".py",
   "mimetype": "text/x-python",
   "name": "python",
   "nbconvert_exporter": "python",
   "pygments_lexer": "ipython3",
   "version": "3.11.7"
  }
 },
 "nbformat": 4,
 "nbformat_minor": 5
}
